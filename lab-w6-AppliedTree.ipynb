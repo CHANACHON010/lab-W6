{
 "cells": [
  {
   "cell_type": "markdown",
   "metadata": {},
   "source": [
    "# การประยุกต์ใช้โครงสร้างต้นไม้กับ Tree data structure\n",
    "# 1. ผลรวม คู่อันดับก่อนหน้าและลำดับตามหลัง root\n",
    "# 2. ผลรวมของ ต้นไม้ทั้งต้น \n",
    "# 3. ผลรวมของ N ลำดับก่อนหน้า ลำดับตามหลัง ของการท่องต้นไม้แบบตามลำดับ\n",
    "# 4. ผลรวมของ กิ่งซ้ายสุด และ กิ่งขวาสุด ของต้นไม้"
   ]
  },
  {
   "cell_type": "code",
   "execution_count": 1,
   "metadata": {},
   "outputs": [
    {
     "name": "stdout",
     "output_type": "stream",
     "text": [
      "Perfect BST of given height : \n",
      " \n",
      "  __2__\n",
      " /     \\\n",
      "0       4__\n",
      " \\     /   \\\n",
      "  1   3     11\n",
      "           /  \\\n",
      "          6    12\n",
      "\n"
     ]
    }
   ],
   "source": [
    "from binarytree import bst\n",
    "root = bst(height = 3)\n",
    "print('Perfect BST of given height : \\n',\n",
    "      root)"
   ]
  },
  {
   "cell_type": "code",
   "execution_count": 2,
   "metadata": {},
   "outputs": [
    {
     "name": "stdout",
     "output_type": "stream",
     "text": [
      "[Node(0), Node(1), Node(2), Node(3), Node(4), Node(6), Node(11), Node(12)]\n"
     ]
    }
   ],
   "source": [
    "print(root.inorder)"
   ]
  },
  {
   "cell_type": "code",
   "execution_count": 3,
   "metadata": {},
   "outputs": [
    {
     "name": "stdout",
     "output_type": "stream",
     "text": [
      "[Node(2), Node(0), Node(1), Node(4), Node(3), Node(11), Node(6), Node(12)]\n"
     ]
    }
   ],
   "source": [
    "print(root.preorder)"
   ]
  },
  {
   "cell_type": "code",
   "execution_count": 4,
   "metadata": {},
   "outputs": [
    {
     "name": "stdout",
     "output_type": "stream",
     "text": [
      "[Node(1), Node(0), Node(3), Node(6), Node(12), Node(11), Node(4), Node(2)]\n"
     ]
    }
   ],
   "source": [
    "print(root.postorder)"
   ]
  },
  {
   "cell_type": "markdown",
   "metadata": {},
   "source": [
    "# 1. ผลรวม คู่อันดับก่อนหน้าและลำดับตามหลัง root"
   ]
  },
  {
   "cell_type": "code",
   "execution_count": 5,
   "metadata": {},
   "outputs": [
    {
     "name": "stdout",
     "output_type": "stream",
     "text": [
      "1 # : 4\n"
     ]
    }
   ],
   "source": [
    "def TraverseTree(root):\n",
    "\n",
    "    Sum = root.left.value + root.right.value\n",
    "    return Sum\n",
    "\n",
    "Sum = TraverseTree(root)\n",
    "print(\"1 # : \" + str(Sum))"
   ]
  },
  {
   "cell_type": "markdown",
   "metadata": {},
   "source": [
    "# 2. ผลรวมของ ต้นไม้ทั้งต้น"
   ]
  },
  {
   "cell_type": "code",
   "execution_count": 6,
   "metadata": {},
   "outputs": [
    {
     "name": "stdout",
     "output_type": "stream",
     "text": [
      "[Node(0), Node(1), Node(2), Node(3), Node(4), Node(6), Node(11), Node(12)]\n",
      "2 # : 39\n"
     ]
    }
   ],
   "source": [
    "def InorderTraverseTree( root): \n",
    "    if root:\n",
    "        return InorderTraverseTree(root.left) + int(root.value) + InorderTraverseTree(root.right)\n",
    "    else:\n",
    "        return 0\n",
    "\n",
    "print(root.inorder)\n",
    "Sum = InorderTraverseTree(root)\n",
    "print(\"2 # : \" + str(Sum))\n"
   ]
  },
  {
   "cell_type": "markdown",
   "metadata": {},
   "source": [
    "# 3. ค้นหา โหนดในต้นไม้ ว่ามีเลขที่เราต้องการหรือไม่"
   ]
  },
  {
   "cell_type": "code",
   "execution_count": 7,
   "metadata": {},
   "outputs": [
    {
     "name": "stdout",
     "output_type": "stream",
     "text": [
      "3 #  False\n"
     ]
    }
   ],
   "source": [
    "def Search(root,key):\n",
    "    if root:\n",
    "        if key == root.value:\n",
    "            return True\n",
    "        else:\n",
    "            if key > root.value:\n",
    "                return Search(root.right,key)\n",
    "            else:\n",
    "                return Search(root.left,key)\n",
    "    return False\n",
    "\n",
    "key = 7\n",
    "print(\"3 # \", Search(root,key))"
   ]
  },
  {
   "cell_type": "markdown",
   "metadata": {},
   "source": [
    "# 4. ผลรวมของ กิ่งซ้ายสุด และ กิ่งขวาสุด ของต้นไม้"
   ]
  },
  {
   "cell_type": "code",
   "execution_count": 8,
   "metadata": {},
   "outputs": [
    {
     "name": "stdout",
     "output_type": "stream",
     "text": [
      "[0, 1, 2, 3, 4, 6, 11, 12]\n",
      "4 # The result :  12\n"
     ]
    }
   ],
   "source": [
    "def SumOfLeftestAndRightest(root):\n",
    "    res = []\n",
    "    if root:\n",
    "        res = SumOfLeftestAndRightest(root.left)\n",
    "        res.append(root.value)\n",
    "        res += SumOfLeftestAndRightest(root.right)\n",
    "        #print(root.value)\n",
    "\n",
    "    return res\n",
    "\n",
    "t = SumOfLeftestAndRightest(root)\n",
    "print(t)\n",
    "print(\"4 #\", \"The result : \", t[0] +t[-1])"
   ]
  },
  {
   "cell_type": "code",
   "execution_count": null,
   "metadata": {},
   "outputs": [],
   "source": []
  }
 ],
 "metadata": {
  "kernelspec": {
   "display_name": "Python 3",
   "language": "python",
   "name": "python3"
  },
  "language_info": {
   "codemirror_mode": {
    "name": "ipython",
    "version": 3
   },
   "file_extension": ".py",
   "mimetype": "text/x-python",
   "name": "python",
   "nbconvert_exporter": "python",
   "pygments_lexer": "ipython3",
   "version": "3.8.8"
  }
 },
 "nbformat": 4,
 "nbformat_minor": 4
}
